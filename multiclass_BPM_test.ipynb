{
 "cells": [
  {
   "cell_type": "code",
   "execution_count": 1,
   "metadata": {
    "collapsed": true
   },
   "outputs": [],
   "source": [
    "from __future__ import absolute_import\n",
    "from __future__ import division\n",
    "from __future__ import print_function"
   ]
  },
  {
   "cell_type": "code",
   "execution_count": 2,
   "metadata": {},
   "outputs": [],
   "source": [
    "import tensorflow as tf\n",
    "import edward as ed\n",
    "import numpy as np\n",
    "import six"
   ]
  },
  {
   "cell_type": "code",
   "execution_count": 3,
   "metadata": {
    "collapsed": true
   },
   "outputs": [],
   "source": [
    "import train_utils as util"
   ]
  },
  {
   "cell_type": "code",
   "execution_count": 4,
   "metadata": {
    "collapsed": true
   },
   "outputs": [],
   "source": [
    "from edward.models import Normal,Bernoulli,Categorical,Gamma,TransformedDistribution"
   ]
  },
  {
   "cell_type": "code",
   "execution_count": 5,
   "metadata": {
    "collapsed": true
   },
   "outputs": [],
   "source": [
    "from tensorflow.examples.tutorials.mnist import input_data\n",
    "import matplotlib.pyplot as plt"
   ]
  },
  {
   "cell_type": "code",
   "execution_count": 6,
   "metadata": {},
   "outputs": [],
   "source": [
    "import multiclass_BPM as mbpm"
   ]
  },
  {
   "cell_type": "code",
   "execution_count": 7,
   "metadata": {
    "collapsed": true
   },
   "outputs": [],
   "source": [
    "%matplotlib inline"
   ]
  },
  {
   "cell_type": "code",
   "execution_count": 8,
   "metadata": {
    "collapsed": true
   },
   "outputs": [],
   "source": [
    "ed.set_seed(0)"
   ]
  },
  {
   "cell_type": "code",
   "execution_count": 9,
   "metadata": {
    "collapsed": true
   },
   "outputs": [],
   "source": [
    "dataset = 'MNIST'\n",
    "\n",
    "N = 55000 # number of training data points\n",
    "N_test = 10000 # number of testing data points\n",
    "#nprint = 1000\n",
    "#niter = 20000\n",
    "B = 2000 # batch size during training"
   ]
  },
  {
   "cell_type": "code",
   "execution_count": 10,
   "metadata": {},
   "outputs": [
    {
     "name": "stdout",
     "output_type": "stream",
     "text": [
      "MNIST\n",
      "Extracting ../data/mnist/train-images-idx3-ubyte.gz\n",
      "Extracting ../data/mnist/train-labels-idx1-ubyte.gz\n",
      "Extracting ../data/mnist/t10k-images-idx3-ubyte.gz\n",
      "Extracting ../data/mnist/t10k-labels-idx1-ubyte.gz\n"
     ]
    }
   ],
   "source": [
    "if dataset == 'MNIST' or dataset == 'FASHION':\n",
    "    print('MNIST')\n",
    "    if dataset == 'MNIST':\n",
    "        DATA_DIR = \"../data/mnist/\"\n",
    "    else:\n",
    "        DATA_DIR = \"../data/fashion/\" #should be downloaded before, otherwise it will automatically download MNIST\n",
    "    \n",
    "    mnist = input_data.read_data_sets(DATA_DIR)\n",
    "    X = mnist.train.images[:N]\n",
    "    Y = mnist.train.labels[:N]\n",
    "    X_test = mnist.test.images[:N_test]\n",
    "    Y_test = mnist.test.labels[:N_test]\n",
    "    M = X.shape[1]+1\n",
    "    H = max(Y)+1\n",
    "    #normalise\n",
    "    X = (X - X.mean())/X.std()\n",
    "elif dataset == 'synthesis': \n",
    "    M = 2 # number of features\n",
    "    H = 2 # number of classes\n",
    "    \n",
    "    s_mean = 0.\n",
    "    s_std = 1.\n",
    "    d_mean = 0.\n",
    "    d_std = 3.\n",
    "    \n",
    "    Y,X = util.build_toy_dataset(mtype,N,M-1,H,s_std,s_mean,d_std)\n",
    "    Y_test,X_test = util.build_toy_dataset(mtype,N_test,M-1,H,s_std,s_mean,d_std)"
   ]
  },
  {
   "cell_type": "code",
   "execution_count": 11,
   "metadata": {
    "collapsed": true
   },
   "outputs": [],
   "source": [
    "X = np.hstack((X,np.ones((N,1))))\n",
    "X_test = np.hstack((X_test,np.ones((X_test.shape[0],1))))"
   ]
  },
  {
   "cell_type": "code",
   "execution_count": 12,
   "metadata": {
    "collapsed": true
   },
   "outputs": [],
   "source": [
    "X = X.astype(np.float32)\n",
    "\n",
    "x_ph = tf.placeholder(tf.float32, [B,M])\n",
    "y_ph = tf.placeholder(tf.int32,[B])"
   ]
  },
  {
   "cell_type": "code",
   "execution_count": 13,
   "metadata": {},
   "outputs": [
    {
     "data": {
      "text/plain": [
       "<module 'multiclass_BPM' from 'multiclass_BPM.pyc'>"
      ]
     },
     "execution_count": 13,
     "metadata": {},
     "output_type": "execute_result"
    }
   ],
   "source": [
    "reload(mbpm)"
   ]
  },
  {
   "cell_type": "code",
   "execution_count": 14,
   "metadata": {},
   "outputs": [],
   "source": [
    "model = mbpm.MultiClass_BPM(N,B,H,M,x_ph,y_ph)"
   ]
  },
  {
   "cell_type": "code",
   "execution_count": 15,
   "metadata": {},
   "outputs": [],
   "source": [
    "w_precision_prior = Gamma(tf.ones([H,M])*4.,tf.ones([H,M])*.5)\n",
    "model.define_model(weights_mean_prior=0., weights_precision_prior=w_precision_prior)\n",
    "#model.define_model()"
   ]
  },
  {
   "cell_type": "code",
   "execution_count": 16,
   "metadata": {
    "collapsed": true
   },
   "outputs": [],
   "source": [
    "model.init_inference(niter=10000,nprint=1000)"
   ]
  },
  {
   "cell_type": "code",
   "execution_count": 17,
   "metadata": {},
   "outputs": [
    {
     "name": "stdout",
     "output_type": "stream",
     "text": [
      "\r",
      "    1/10000 [  0%]                                ETA: 6057s | Loss: 197890.719"
     ]
    },
    {
     "name": "stderr",
     "output_type": "stream",
     "text": [
      "train_utils.py:14: FutureWarning: comparison to `None` will result in an elementwise object comparison in the future.\n",
      "  if labels!=None:\n",
      "train_utils.py:23: FutureWarning: comparison to `None` will result in an elementwise object comparison in the future.\n",
      "  if labels == None:\n"
     ]
    },
    {
     "name": "stdout",
     "output_type": "stream",
     "text": [
      "10000/10000 [100%] ██████████████████████████████ Elapsed: 66s | Loss: 90664.102\n"
     ]
    }
   ],
   "source": [
    "model.fit(X=X,Y=Y)"
   ]
  },
  {
   "cell_type": "code",
   "execution_count": 18,
   "metadata": {},
   "outputs": [],
   "source": [
    "#reload(mbpm)"
   ]
  },
  {
   "cell_type": "code",
   "execution_count": 19,
   "metadata": {},
   "outputs": [
    {
     "name": "stdout",
     "output_type": "stream",
     "text": [
      "Test accuracy:  0.8791\n"
     ]
    }
   ],
   "source": [
    "py = model.predict(X_test=X_test,Y_test=Y_test)"
   ]
  },
  {
   "cell_type": "code",
   "execution_count": null,
   "metadata": {},
   "outputs": [],
   "source": []
  },
  {
   "cell_type": "code",
   "execution_count": null,
   "metadata": {
    "collapsed": true
   },
   "outputs": [],
   "source": []
  }
 ],
 "metadata": {
  "kernelspec": {
   "display_name": "Python 2",
   "language": "python",
   "name": "python2"
  },
  "language_info": {
   "codemirror_mode": {
    "name": "ipython",
    "version": 2
   },
   "file_extension": ".py",
   "mimetype": "text/x-python",
   "name": "python",
   "nbconvert_exporter": "python",
   "pygments_lexer": "ipython2",
   "version": "2.7.12"
  }
 },
 "nbformat": 4,
 "nbformat_minor": 2
}
