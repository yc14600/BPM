{
 "cells": [
  {
   "cell_type": "code",
   "execution_count": 1,
   "metadata": {
    "collapsed": true
   },
   "outputs": [],
   "source": [
    "from __future__ import absolute_import\n",
    "from __future__ import division\n",
    "from __future__ import print_function"
   ]
  },
  {
   "cell_type": "code",
   "execution_count": 2,
   "metadata": {
    "collapsed": true
   },
   "outputs": [],
   "source": [
    "import edward as ed\n",
    "import numpy as np\n",
    "import tensorflow as tf\n",
    "import six\n",
    "import os"
   ]
  },
  {
   "cell_type": "code",
   "execution_count": 3,
   "metadata": {
    "collapsed": true
   },
   "outputs": [],
   "source": [
    "from sklearn.linear_model import LogisticRegression"
   ]
  },
  {
   "cell_type": "code",
   "execution_count": 4,
   "metadata": {
    "collapsed": true
   },
   "outputs": [],
   "source": [
    "from edward.models import Normal,Empirical,Bernoulli,Categorical\n",
    "from tensorflow.contrib import slim\n",
    "from tensorflow.contrib.keras.api.keras.layers import Dense"
   ]
  },
  {
   "cell_type": "code",
   "execution_count": 5,
   "metadata": {
    "collapsed": true
   },
   "outputs": [],
   "source": [
    "import matplotlib.pyplot as plt\n",
    "import train_utils as util"
   ]
  },
  {
   "cell_type": "code",
   "execution_count": 6,
   "metadata": {
    "collapsed": true
   },
   "outputs": [],
   "source": [
    "%matplotlib inline"
   ]
  },
  {
   "cell_type": "code",
   "execution_count": 7,
   "metadata": {
    "collapsed": true
   },
   "outputs": [],
   "source": [
    "mtype = 'bpm'\n",
    "iftype = 'VI'"
   ]
  },
  {
   "cell_type": "code",
   "execution_count": 8,
   "metadata": {
    "collapsed": true
   },
   "outputs": [],
   "source": [
    "N = 10000  # number of data points\n",
    "M = 3 # number of features\n",
    "H = 3 # number of classes\n",
    "B = 64 # batch size during training"
   ]
  },
  {
   "cell_type": "code",
   "execution_count": 9,
   "metadata": {
    "collapsed": true
   },
   "outputs": [],
   "source": [
    "s_mean = 0.\n",
    "s_std = 1.\n",
    "\n",
    "d_mean = 0.\n",
    "d_std = 3.\n",
    "\n",
    "noise_std = .01"
   ]
  },
  {
   "cell_type": "code",
   "execution_count": 10,
   "metadata": {
    "collapsed": true
   },
   "outputs": [],
   "source": [
    "Y,X = util.build_toy_dataset(mtype,N,M-1,H,s_std,s_mean,d_std)"
   ]
  },
  {
   "cell_type": "code",
   "execution_count": 11,
   "metadata": {},
   "outputs": [
    {
     "data": {
      "text/plain": [
       "(10000, 2)"
      ]
     },
     "execution_count": 11,
     "metadata": {},
     "output_type": "execute_result"
    }
   ],
   "source": [
    "X.shape"
   ]
  },
  {
   "cell_type": "code",
   "execution_count": 12,
   "metadata": {},
   "outputs": [
    {
     "name": "stdout",
     "output_type": "stream",
     "text": [
      "Logistic regression accuracy:  0.9736\n"
     ]
    }
   ],
   "source": [
    "lgr = LogisticRegression()\n",
    "lgr.fit(X,Y)\n",
    "print('Logistic regression accuracy: ',sum(lgr.predict(X)==Y)/N)"
   ]
  },
  {
   "cell_type": "code",
   "execution_count": 13,
   "metadata": {},
   "outputs": [],
   "source": [
    "X = np.hstack((X,np.ones((N,1))))"
   ]
  },
  {
   "cell_type": "code",
   "execution_count": 14,
   "metadata": {
    "collapsed": true
   },
   "outputs": [],
   "source": [
    "X = X.astype(np.float32)\n",
    "#Y = Y.astype(np.float32)\n",
    "\n",
    "x_ph = tf.placeholder(tf.float32, [B,M])\n",
    "y_ph = tf.placeholder(tf.int32,[B])\n",
    "y_ph_ohe = tf.placeholder(tf.float32,[B,H]) "
   ]
  },
  {
   "cell_type": "code",
   "execution_count": 15,
   "metadata": {},
   "outputs": [],
   "source": [
    "# model\n",
    "w = Normal(tf.zeros([H-1,M]),tf.ones([H-1,M]))\n",
    "    \n",
    "if iftype == 'HMC':\n",
    "    qw = Empirical(params=tf.Variable(tf.random_normal([B,H-1,M])))\n",
    "else:\n",
    "    qw = Normal(tf.Variable(tf.random_normal([H-1,M])), tf.nn.softplus(tf.Variable(tf.random_normal([H-1,M]))))\n",
    "\n",
    "#y = Categorical(tf.nn.softmax(Normal(tf.matmul(x_ph,tf.transpose(w)), noise_std)))\n",
    "y = Categorical(tf.nn.softmax(Normal(tf.concat([tf.matmul(x_ph,tf.transpose(w)),tf.zeros([B,1])],axis=1), noise_std)))\n"
   ]
  },
  {
   "cell_type": "code",
   "execution_count": 16,
   "metadata": {},
   "outputs": [],
   "source": [
    "# inference\n",
    "scaling = float(N) / B\n",
    "nprint = 1000\n",
    "niter = 20000\n",
    "\n",
    "if iftype == 'EP':\n",
    "    inference = ed.KLpq({w:qw},data={y:y_ph})\n",
    "elif iftype == 'VI':\n",
    "    inference = ed.KLqp({w:qw},data={y:y_ph})\n",
    "elif iftype == 'HMC':\n",
    "    inference = ed.HMC({w:qw},data={y:y_ph})\n",
    "else:\n",
    "    print('invalid inference type')\n",
    "    \n",
    "inference.initialize(n_iter=niter,n_print=nprint,scale={y:scaling})\n"
   ]
  },
  {
   "cell_type": "code",
   "execution_count": 17,
   "metadata": {
    "collapsed": true
   },
   "outputs": [],
   "source": [
    "sess = ed.get_session()\n",
    "tf.global_variables_initializer().run()"
   ]
  },
  {
   "cell_type": "code",
   "execution_count": 18,
   "metadata": {},
   "outputs": [
    {
     "name": "stdout",
     "output_type": "stream",
     "text": [
      "\r",
      "    1/20000 [  0%]                                ETA: 5256s | Loss: 11413.973"
     ]
    },
    {
     "name": "stderr",
     "output_type": "stream",
     "text": [
      "train_utils.py:14: FutureWarning: comparison to `None` will result in an elementwise object comparison in the future.\n",
      "  if labels!=None:\n",
      "train_utils.py:23: FutureWarning: comparison to `None` will result in an elementwise object comparison in the future.\n",
      "  if labels == None:\n"
     ]
    },
    {
     "name": "stdout",
     "output_type": "stream",
     "text": [
      "\n",
      " w mean:\n",
      "[[-0.96580857 -1.27977908 -0.82098758]\n",
      " [ 0.92290175 -1.146209    0.17065722]]\n",
      " 1000/20000 [  5%] █                              ETA: 14s | Loss: 5976.284 \n",
      " w mean:\n",
      "[[ -3.19523335  -3.27656865  16.06370735]\n",
      " [ -1.14678884  -1.11376894  10.07752132]]\n",
      " 2000/20000 [ 10%] ███                            ETA: 11s | Loss: 6264.770\n",
      " w mean:\n",
      "[[ -3.58981442  -3.47344756  17.4291935 ]\n",
      " [ -1.25734782  -1.24564254  11.00165367]]\n",
      " 3000/20000 [ 15%] ████                           ETA: 9s | Loss: 6282.323\n",
      " w mean:\n",
      "[[ -3.48555875  -3.63012147  17.60212326]\n",
      " [ -1.27138913  -1.28093815  11.4271431 ]]\n",
      " 4000/20000 [ 20%] ██████                         ETA: 8s | Loss: 6188.425\n",
      " w mean:\n",
      "[[ -3.7020123   -3.43295479  17.93678284]\n",
      " [ -1.31483686  -1.28268027  11.39431953]]\n",
      " 5000/20000 [ 25%] ███████                        ETA: 8s | Loss: 6022.579\n",
      " w mean:\n",
      "[[ -3.61491346  -3.55017138  17.66453362]\n",
      " [ -1.31920087  -1.29545808  11.58558273]]\n",
      " 6000/20000 [ 30%] █████████                      ETA: 7s | Loss: 5956.102\n",
      " w mean:\n",
      "[[ -3.59240365  -3.53949642  18.08196449]\n",
      " [ -1.33455789  -1.29072714  11.66035938]]\n",
      " 7000/20000 [ 35%] ██████████                     ETA: 6s | Loss: 6265.451\n",
      " w mean:\n",
      "[[ -3.58911586  -3.5484786   17.79740906]\n",
      " [ -1.31268072  -1.26788521  11.32199955]]\n",
      " 8000/20000 [ 40%] ████████████                   ETA: 6s | Loss: 6267.275\n",
      " w mean:\n",
      "[[ -3.58189535  -3.67410421  18.31406784]\n",
      " [ -1.29949856  -1.30823267  11.50094318]]\n",
      " 9000/20000 [ 45%] █████████████                  ETA: 5s | Loss: 6165.040\n",
      " w mean:\n",
      "[[ -3.59598374  -3.69612312  17.93889427]\n",
      " [ -1.29603338  -1.28223097  11.42034149]]\n",
      "10000/20000 [ 50%] ███████████████                ETA: 5s | Loss: 6026.624\n",
      " w mean:\n",
      "[[ -3.43168092  -3.49839926  17.92629242]\n",
      " [ -1.28843558  -1.30062306  11.50584316]]\n",
      "11000/20000 [ 55%] ████████████████               ETA: 4s | Loss: 5985.647\n",
      " w mean:\n",
      "[[ -3.57695055  -3.54970264  18.05747604]\n",
      " [ -1.30821073  -1.2895658   11.48254585]]\n",
      "12000/20000 [ 60%] ██████████████████             ETA: 4s | Loss: 6256.714\n",
      " w mean:\n",
      "[[ -3.52142     -3.46734381  17.80720329]\n",
      " [ -1.29744208  -1.30331123  11.58641243]]\n",
      "13000/20000 [ 65%] ███████████████████            ETA: 3s | Loss: 6268.558\n",
      " w mean:\n",
      "[[ -3.49847388  -3.41490602  17.83854294]\n",
      " [ -1.32849014  -1.26926923  11.50850105]]\n",
      "14000/20000 [ 70%] █████████████████████          ETA: 3s | Loss: 6158.356\n",
      " w mean:\n",
      "[[ -3.59048414  -3.58849955  18.02533531]\n",
      " [ -1.29957664  -1.30656385  11.4162817 ]]\n",
      "15000/20000 [ 75%] ██████████████████████         ETA: 2s | Loss: 6022.756\n",
      " w mean:\n",
      "[[ -3.60196519  -3.60555458  17.93181992]\n",
      " [ -1.28201723  -1.30345118  11.50242805]]\n",
      "16000/20000 [ 80%] ████████████████████████       ETA: 1s | Loss: 5962.857\n",
      " w mean:\n",
      "[[ -3.55111122  -3.4260025   17.89072418]\n",
      " [ -1.29531407  -1.29471147  11.43712902]]\n",
      "17000/20000 [ 85%] █████████████████████████      ETA: 1s | Loss: 6278.526\n",
      " w mean:\n",
      "[[ -3.62320614  -3.48092484  17.98670197]\n",
      " [ -1.31843042  -1.28351581  11.55369663]]\n",
      "18000/20000 [ 90%] ███████████████████████████    ETA: 0s | Loss: 6275.006\n",
      " w mean:\n",
      "[[ -3.72232842  -3.56102467  17.82031822]\n",
      " [ -1.26816368  -1.28658116  11.54767609]]\n",
      "19000/20000 [ 95%] ████████████████████████████   ETA: 0s | Loss: 6194.136\n",
      " w mean:\n",
      "[[ -3.69216061  -3.61535668  17.91215706]\n",
      " [ -1.30139184  -1.29405403  11.40745068]]\n",
      "20000/20000 [100%] ██████████████████████████████ Elapsed: 9s | Loss: 6041.700\n"
     ]
    }
   ],
   "source": [
    "ii = 0\n",
    "sess = ed.get_session()\n",
    "for t in range(niter):\n",
    "    x_batch,y_batch,ii = util.get_next_batch(X,B,ii,Y)\n",
    "  \n",
    "    info_dict = inference.update(feed_dict={x_ph:x_batch,y_ph:y_batch})\n",
    "    inference.print_progress(info_dict)\n",
    "    \n",
    "    if t % nprint == 0:\n",
    "        print('\\n w mean:')\n",
    "        print(sess.run(qw))"
   ]
  },
  {
   "cell_type": "code",
   "execution_count": 19,
   "metadata": {},
   "outputs": [
    {
     "name": "stdout",
     "output_type": "stream",
     "text": [
      "0.9824\n"
     ]
    }
   ],
   "source": [
    "ii = 0\n",
    "acu = 0\n",
    "y_test = tf.nn.softmax(tf.concat([tf.matmul(x_ph,tf.transpose(qw.loc)),tf.zeros([B,1])],axis=1))\n",
    "for i in range(int(np.ceil(N/B))):\n",
    "    x_batch,y_batch,ii = util.get_next_batch(X,B,ii,Y)\n",
    "    y_test_batch = sess.run(y_test,feed_dict={x_ph:x_batch,y_ph:y_batch})\n",
    "    acu += sum(np.argmax(y_test_batch,axis=1)==y_batch)\n",
    "print(acu*1./N)"
   ]
  },
  {
   "cell_type": "code",
   "execution_count": null,
   "metadata": {
    "collapsed": true
   },
   "outputs": [],
   "source": []
  }
 ],
 "metadata": {
  "kernelspec": {
   "display_name": "Python 2",
   "language": "python",
   "name": "python2"
  },
  "language_info": {
   "codemirror_mode": {
    "name": "ipython",
    "version": 2
   },
   "file_extension": ".py",
   "mimetype": "text/x-python",
   "name": "python",
   "nbconvert_exporter": "python",
   "pygments_lexer": "ipython2",
   "version": "2.7.12"
  }
 },
 "nbformat": 4,
 "nbformat_minor": 2
}
